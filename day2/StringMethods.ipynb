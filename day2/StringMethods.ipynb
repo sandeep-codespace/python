{
 "cells": [
  {
   "cell_type": "code",
   "execution_count": 1,
   "id": "697d7a64-58c9-4248-b232-8be3392ef79e",
   "metadata": {},
   "outputs": [
    {
     "name": "stdout",
     "output_type": "stream",
     "text": [
      "Pamkaj\n",
      "PAMKAJ\n"
     ]
    }
   ],
   "source": [
    "w= \"sandeep\";\n",
    "print(w);\n",
    "print(w.upper());"
   ]
  },
  {
   "cell_type": "code",
   "execution_count": null,
   "id": "b3dec436-13a0-43ea-8189-0ac4495d32dd",
   "metadata": {},
   "outputs": [],
   "source": [
    "w= \"SANDEEP\";\n",
    "print(w);\n",
    "print(w.lower());"
   ]
  },
  {
   "cell_type": "code",
   "execution_count": 3,
   "id": "5c362640-335b-4d7b-b3dc-2163acd325f1",
   "metadata": {},
   "outputs": [
    {
     "name": "stdout",
     "output_type": "stream",
     "text": [
      "SANDEEP\n",
      "D\n"
     ]
    }
   ],
   "source": [
    "w= \"SANDEEP\";\n",
    "print(w);\n",
    "print(w[3]);"
   ]
  },
  {
   "cell_type": "code",
   "execution_count": 1,
   "id": "56be6d1f-4479-486a-8b95-d0a419ff466c",
   "metadata": {},
   "outputs": [
    {
     "name": "stdout",
     "output_type": "stream",
     "text": [
      "San\n"
     ]
    }
   ],
   "source": [
    "w= \"Sandeep\";\n",
    "print(w[0:3]);"
   ]
  },
  {
   "cell_type": "code",
   "execution_count": 2,
   "id": "faf2486d",
   "metadata": {},
   "outputs": [
    {
     "name": "stdout",
     "output_type": "stream",
     "text": [
      "San\n"
     ]
    }
   ],
   "source": [
    "w= \"Sandeep\";\n",
    "print(w[:3]);"
   ]
  },
  {
   "cell_type": "code",
   "execution_count": null,
   "id": "2ef54ff7",
   "metadata": {},
   "outputs": [],
   "source": [
    "w= \"Sandeep\";\n",
    "print(w);\n",
    "print(w.casefold());"
   ]
  },
  {
   "cell_type": "markdown",
   "id": "a071a7db",
   "metadata": {},
   "source": [
    "Substrig test"
   ]
  },
  {
   "cell_type": "code",
   "execution_count": 3,
   "id": "e7b0030a",
   "metadata": {},
   "outputs": [
    {
     "name": "stdout",
     "output_type": "stream",
     "text": [
      "andeep\n"
     ]
    }
   ],
   "source": [
    "w= \"Sandeep\";\n",
    "print(w[1:]);"
   ]
  },
  {
   "cell_type": "code",
   "execution_count": 4,
   "id": "0800bc13",
   "metadata": {},
   "outputs": [
    {
     "name": "stdout",
     "output_type": "stream",
     "text": [
      "True\n"
     ]
    }
   ],
   "source": [
    "w= \"Sandeep\";\n",
    "print(w.isalpha());"
   ]
  },
  {
   "cell_type": "code",
   "execution_count": 5,
   "id": "b502ca6c",
   "metadata": {},
   "outputs": [
    {
     "name": "stdout",
     "output_type": "stream",
     "text": [
      "False\n"
     ]
    }
   ],
   "source": [
    "w= \"Sandeep123\";\n",
    "print(w.isalpha());"
   ]
  },
  {
   "cell_type": "code",
   "execution_count": 6,
   "id": "f4b7a782",
   "metadata": {},
   "outputs": [
    {
     "name": "stdout",
     "output_type": "stream",
     "text": [
      "False\n"
     ]
    }
   ],
   "source": [
    "w= \"Sandeep123\";\n",
    "print(w.isdigit());"
   ]
  },
  {
   "cell_type": "code",
   "execution_count": 8,
   "id": "93d53529",
   "metadata": {},
   "outputs": [
    {
     "name": "stdout",
     "output_type": "stream",
     "text": [
      "True\n"
     ]
    }
   ],
   "source": [
    "w= \"123\";\n",
    "print(w.isdigit());"
   ]
  },
  {
   "cell_type": "code",
   "execution_count": 9,
   "id": "660605f9",
   "metadata": {},
   "outputs": [
    {
     "name": "stdout",
     "output_type": "stream",
     "text": [
      "True\n"
     ]
    }
   ],
   "source": [
    "w= \"find the text hello\";\n",
    "print(\"hello\" in w);"
   ]
  },
  {
   "cell_type": "code",
   "execution_count": 10,
   "id": "13c1b921",
   "metadata": {},
   "outputs": [
    {
     "name": "stdout",
     "output_type": "stream",
     "text": [
      "False\n"
     ]
    }
   ],
   "source": [
    "w= \"find the text hello\";\n",
    "print(\"hello\" not in w);"
   ]
  },
  {
   "cell_type": "code",
   "execution_count": 11,
   "id": "e9c8294a",
   "metadata": {},
   "outputs": [
    {
     "name": "stdout",
     "output_type": "stream",
     "text": [
      "5\n"
     ]
    }
   ],
   "source": [
    "w= \"find the text hello\";\n",
    "print(w.find(\"the\"));"
   ]
  },
  {
   "cell_type": "code",
   "execution_count": 13,
   "id": "5c65f7c3",
   "metadata": {},
   "outputs": [
    {
     "name": "stdout",
     "output_type": "stream",
     "text": [
      "-1\n"
     ]
    }
   ],
   "source": [
    "w= \"dkjhs kjdj\";\n",
    "print(w.find(\"thiryerie\"));"
   ]
  },
  {
   "cell_type": "code",
   "execution_count": 15,
   "id": "8ea2aefd",
   "metadata": {},
   "outputs": [
    {
     "name": "stdout",
     "output_type": "stream",
     "text": [
      "14\n"
     ]
    }
   ],
   "source": [
    "w= \"find the text hello, and other hello\";\n",
    "print(w.find(\"hello\"));"
   ]
  },
  {
   "cell_type": "markdown",
   "id": "df4751da",
   "metadata": {},
   "source": [
    "find last occrance of search"
   ]
  },
  {
   "cell_type": "code",
   "execution_count": null,
   "id": "8adb0568",
   "metadata": {},
   "outputs": [],
   "source": [
    "w= \"find the text hello, and other hello\";\n",
    "print(w.rfind(\"hello\"));"
   ]
  },
  {
   "cell_type": "markdown",
   "id": "e5f0123e",
   "metadata": {},
   "source": [
    "find all occurances"
   ]
  },
  {
   "cell_type": "code",
   "execution_count": 19,
   "id": "88ab24b3",
   "metadata": {},
   "outputs": [
    {
     "name": "stdout",
     "output_type": "stream",
     "text": [
      "14\n"
     ]
    }
   ],
   "source": [
    "w= \"find the text hello, and other hello\";\n",
    "print(w.find(\"hello\"));"
   ]
  },
  {
   "cell_type": "markdown",
   "id": "b4776494",
   "metadata": {},
   "source": [
    "find text between some range/postion"
   ]
  },
  {
   "cell_type": "code",
   "execution_count": 17,
   "id": "eb239019",
   "metadata": {},
   "outputs": [
    {
     "name": "stdout",
     "output_type": "stream",
     "text": [
      "14\n"
     ]
    }
   ],
   "source": [
    "w= \"find the text hello, and other hello\";\n",
    "print(w.rfind(\"hello\",5,20));"
   ]
  },
  {
   "cell_type": "markdown",
   "id": "92fde465",
   "metadata": {},
   "source": [
    "use of index instead of find but it will throw error if substr not found"
   ]
  },
  {
   "cell_type": "code",
   "execution_count": 20,
   "id": "1ae597ed",
   "metadata": {},
   "outputs": [
    {
     "name": "stdout",
     "output_type": "stream",
     "text": [
      "14\n"
     ]
    }
   ],
   "source": [
    "w= \"find the text hello, and other hello\";\n",
    "print(w.index(\"hello\"));"
   ]
  },
  {
   "cell_type": "code",
   "execution_count": 22,
   "id": "80f30319",
   "metadata": {},
   "outputs": [
    {
     "name": "stdout",
     "output_type": "stream",
     "text": [
      "9\n"
     ]
    }
   ],
   "source": [
    "w= \"find the text hello, and other hello\";\n",
    "print(w.rindex(\"text\"));"
   ]
  },
  {
   "cell_type": "markdown",
   "id": "65030401",
   "metadata": {},
   "source": [
    "zfill to make str of specif length append 0 in front of string make "
   ]
  },
  {
   "cell_type": "code",
   "execution_count": 25,
   "id": "7117434b",
   "metadata": {},
   "outputs": [
    {
     "name": "stdout",
     "output_type": "stream",
     "text": [
      "0000001234\n"
     ]
    }
   ],
   "source": [
    "w=\"1234\";\n",
    "print(w.zfill(10));"
   ]
  },
  {
   "cell_type": "markdown",
   "id": "9428008e",
   "metadata": {},
   "source": [
    "strip is used to trim the string spaces\n",
    "rstrip is usedto remove space from right side"
   ]
  },
  {
   "cell_type": "code",
   "execution_count": 27,
   "id": "b7868972",
   "metadata": {},
   "outputs": [
    {
     "name": "stdout",
     "output_type": "stream",
     "text": [
      "  some test with space  \n",
      "some test with space\n",
      "  some test with space\n"
     ]
    }
   ],
   "source": [
    "w= \"  some test with space  \";\n",
    "print (w);\n",
    "print(w.strip());\n",
    "print(w.rstrip());"
   ]
  },
  {
   "cell_type": "markdown",
   "id": "29190517",
   "metadata": {},
   "source": [
    "swapcase used to spawp lower to upper and vise versa"
   ]
  },
  {
   "cell_type": "code",
   "execution_count": 28,
   "id": "cde53a11",
   "metadata": {},
   "outputs": [
    {
     "name": "stdout",
     "output_type": "stream",
     "text": [
      "UPPER lower\n",
      "upper LOWER\n"
     ]
    }
   ],
   "source": [
    "w =\"UPPER lower\";\n",
    "\n",
    "print(w);\n",
    "print(w.swapcase());"
   ]
  },
  {
   "cell_type": "markdown",
   "id": "d549202a",
   "metadata": {},
   "source": [
    "count number of occurances string"
   ]
  },
  {
   "cell_type": "code",
   "execution_count": 29,
   "id": "97fcc009",
   "metadata": {},
   "outputs": [
    {
     "name": "stdout",
     "output_type": "stream",
     "text": [
      "2\n"
     ]
    }
   ],
   "source": [
    "w= \"find text in the text area\";\n",
    "print(w.count(\"text\"));"
   ]
  },
  {
   "cell_type": "markdown",
   "id": "17755a96",
   "metadata": {},
   "source": [
    "replace a specific with some other text, it will replace all occurances"
   ]
  },
  {
   "cell_type": "code",
   "execution_count": 30,
   "id": "caaa4eda",
   "metadata": {},
   "outputs": [
    {
     "name": "stdout",
     "output_type": "stream",
     "text": [
      "find test in the test area\n"
     ]
    }
   ],
   "source": [
    "w= \"find text in the text area\";\n",
    "print(w.replace(\"text\", \"test\"));"
   ]
  },
  {
   "cell_type": "markdown",
   "id": "658fa421",
   "metadata": {},
   "source": [
    "center is used to give same space both side"
   ]
  },
  {
   "cell_type": "code",
   "execution_count": 32,
   "id": "ea82c98a",
   "metadata": {},
   "outputs": [
    {
     "name": "stdout",
     "output_type": "stream",
     "text": [
      "        test        \n",
      "********test********\n",
      "*********test********\n"
     ]
    }
   ],
   "source": [
    "w =\"test\";\n",
    "print(w.center(20));\n",
    "print(w.center(20,\"*\"));\n",
    "print(w.center(21,\"*\"));"
   ]
  },
  {
   "cell_type": "markdown",
   "id": "90dce982",
   "metadata": {},
   "source": [
    "expand tabs space by specific value"
   ]
  },
  {
   "cell_type": "code",
   "execution_count": 35,
   "id": "82eeb32a",
   "metadata": {},
   "outputs": [
    {
     "name": "stdout",
     "output_type": "stream",
     "text": [
      "sa\tn\tdee\tp\n",
      "sa                  n                   dee                 p\n"
     ]
    }
   ],
   "source": [
    "w =\"sa\\tn\\tdee\\tp\";\n",
    "print(w);\n",
    "print(w.expandtabs(20));"
   ]
  },
  {
   "cell_type": "markdown",
   "id": "4a0d294c",
   "metadata": {},
   "source": [
    "split strig to array based on specific char"
   ]
  },
  {
   "cell_type": "code",
   "execution_count": 36,
   "id": "73efafee",
   "metadata": {},
   "outputs": [
    {
     "name": "stdout",
     "output_type": "stream",
     "text": [
      "this will conver to array\n",
      "['this', 'will', 'conver', 'to', 'array']\n"
     ]
    }
   ],
   "source": [
    "w =\"this will conver to array\";\n",
    "print(w);\n",
    "print(w.split(\" \"));"
   ]
  },
  {
   "cell_type": "markdown",
   "id": "91568abf",
   "metadata": {},
   "source": [
    "splitline to sploiyt string based on \\n occurances"
   ]
  },
  {
   "cell_type": "code",
   "execution_count": 37,
   "id": "d0b9d212",
   "metadata": {},
   "outputs": [
    {
     "name": "stdout",
     "output_type": "stream",
     "text": [
      "this will \n",
      "conver to \n",
      "array\n",
      "['this will ', 'conver to ', 'array']\n"
     ]
    }
   ],
   "source": [
    "w =\"this will \\nconver to \\narray\";\n",
    "print(w);\n",
    "print(w.splitlines());"
   ]
  },
  {
   "cell_type": "markdown",
   "id": "2ca62bcb",
   "metadata": {},
   "source": [
    "ljust will justify to left \n",
    "rjust will justify to right\n"
   ]
  },
  {
   "cell_type": "code",
   "execution_count": 53,
   "id": "24495b71",
   "metadata": {},
   "outputs": [
    {
     "name": "stdout",
     "output_type": "stream",
     "text": [
      "test\n",
      "4\n",
      "test ljust\n"
     ]
    }
   ],
   "source": [
    "w = \"test\";\n",
    "print(w);\n",
    "print(len(w));\n",
    "print(w.ljust(5)+\"ljust\")"
   ]
  },
  {
   "cell_type": "code",
   "execution_count": 54,
   "id": "8d7eeb05",
   "metadata": {},
   "outputs": [
    {
     "name": "stdout",
     "output_type": "stream",
     "text": [
      "test\n",
      "4\n",
      "      testrjust\n"
     ]
    }
   ],
   "source": [
    "w = \"test\";\n",
    "print(w);\n",
    "print(len(w));\n",
    "print(w.rjust(10)+\"rjust\");"
   ]
  }
 ],
 "metadata": {
  "kernelspec": {
   "display_name": "Python 3 (ipykernel)",
   "language": "python",
   "name": "python3"
  },
  "language_info": {
   "codemirror_mode": {
    "name": "ipython",
    "version": 3
   },
   "file_extension": ".py",
   "mimetype": "text/x-python",
   "name": "python",
   "nbconvert_exporter": "python",
   "pygments_lexer": "ipython3",
   "version": "3.11.5"
  }
 },
 "nbformat": 4,
 "nbformat_minor": 5
}
