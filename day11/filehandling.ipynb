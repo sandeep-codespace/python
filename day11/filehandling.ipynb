{
 "cells": [
  {
   "cell_type": "markdown",
   "metadata": {},
   "source": [
    "File Handling :\n",
    "1. python have several functions for creating , reading , updating and deleteing files.\n",
    "2. the key function for wokring with files in python is open() funtion\n",
    "3. the open function take two param filename and mode\n",
    "4. there are four diff modes for file opening\n",
    "    a. 'r' : read- open a file for reaidng throw error if file not exist\n",
    "    b. 'a' : append : open a file for appening create file if not exist\n",
    "    c. 'w': write : open file for wrting, create file if not exist\n",
    "    d. 'x' : create create specified file, return error if file exist\n"
   ]
  },
  {
   "cell_type": "code",
   "execution_count": 2,
   "metadata": {},
   "outputs": [
    {
     "name": "stdout",
     "output_type": "stream",
     "text": [
      "This is sample content for file handling demo.\n"
     ]
    }
   ],
   "source": [
    "fileread = open('D://Sandeep//repos//python//resources//hello.txt','r')\n",
    "\n",
    "print(fileread.read());\n",
    "\n",
    "fileread.close();"
   ]
  },
  {
   "cell_type": "markdown",
   "metadata": {},
   "source": [
    "read up to a specific length"
   ]
  },
  {
   "cell_type": "code",
   "execution_count": 3,
   "metadata": {},
   "outputs": [
    {
     "name": "stdout",
     "output_type": "stream",
     "text": [
      "This is sa\n"
     ]
    }
   ],
   "source": [
    "fileread = open('D://Sandeep//repos//python//resources//hello.txt','r')\n",
    "\n",
    "print(fileread.read(10));\n",
    "\n",
    "fileread.close();"
   ]
  },
  {
   "cell_type": "code",
   "execution_count": 5,
   "metadata": {},
   "outputs": [
    {
     "name": "stdout",
     "output_type": "stream",
     "text": [
      "This is sample content for file handling demo.\n",
      "\n",
      "this the sencond line on file.\n",
      "\n"
     ]
    }
   ],
   "source": [
    "# read tcontext line wise\n",
    "fileread = open('D://Sandeep//repos//python//resources//hello.txt','r')\n",
    "\n",
    "print(fileread.readline());\n",
    "print(fileread.readline());\n",
    "\n",
    "fileread.close();"
   ]
  },
  {
   "cell_type": "code",
   "execution_count": 7,
   "metadata": {},
   "outputs": [
    {
     "name": "stdout",
     "output_type": "stream",
     "text": [
      "This is sample content for file handling demo. \n",
      "\n",
      "h\n",
      "\n",
      "this the sencond line on file.\n",
      "\n",
      "some random text for demo.\n"
     ]
    }
   ],
   "source": [
    "fileread = open('D://Sandeep//repos//python//resources//hello.txt','r');\n",
    "\n",
    "for content in fileread:\n",
    "    print(content);\n",
    "    \n",
    "fileread.close();\n"
   ]
  },
  {
   "cell_type": "code",
   "execution_count": 8,
   "metadata": {},
   "outputs": [
    {
     "name": "stdout",
     "output_type": "stream",
     "text": [
      "file not present\n"
     ]
    }
   ],
   "source": [
    "import os\n",
    "\n",
    "if os.path.exists(\"D://abc.txt\"):\n",
    "    print(\"file exist\");\n",
    "else:\n",
    "    print(\"file not present\");"
   ]
  },
  {
   "cell_type": "code",
   "execution_count": 9,
   "metadata": {},
   "outputs": [
    {
     "name": "stdout",
     "output_type": "stream",
     "text": [
      "File created successfully\n"
     ]
    }
   ],
   "source": [
    "fileread = open('D://Sandeep//repos//python//resources//hello_create.txt','w');\n",
    "print(\"File created successfully\");"
   ]
  },
  {
   "cell_type": "code",
   "execution_count": 10,
   "metadata": {},
   "outputs": [
    {
     "name": "stdout",
     "output_type": "stream",
     "text": [
      "File created successfully\n"
     ]
    }
   ],
   "source": [
    "fileread = open('D://Sandeep//repos//python//resources//hello_create.txt','w');\n",
    "print(\"File created successfully\");"
   ]
  },
  {
   "cell_type": "code",
   "execution_count": 14,
   "metadata": {},
   "outputs": [
    {
     "name": "stdout",
     "output_type": "stream",
     "text": [
      "File updated successfully\n"
     ]
    }
   ],
   "source": [
    "fileread = open('D://Sandeep//repos//python//resources//hello_create.txt','w');\n",
    "inputText = input(\"Please enter text for file content\");\n",
    "# this will overwrite file content\n",
    "fileread.write(inputText);\n",
    "print(\"File updated successfully\");\n",
    "fileread.close();"
   ]
  },
  {
   "cell_type": "code",
   "execution_count": 15,
   "metadata": {},
   "outputs": [
    {
     "name": "stdout",
     "output_type": "stream",
     "text": [
      "File updated successfully\n"
     ]
    }
   ],
   "source": [
    "fileread = open('D://Sandeep//repos//python//resources//hello_create.txt','a');\n",
    "inputText = input(\"Please enter text for file content\");\n",
    "# this will append file content\n",
    "fileread.write(inputText);\n",
    "print(\"File updated successfully\");\n",
    "fileread.close();"
   ]
  },
  {
   "cell_type": "code",
   "execution_count": 17,
   "metadata": {},
   "outputs": [
    {
     "name": "stdout",
     "output_type": "stream",
     "text": [
      "[Errno 17] File exists: 'D://Sandeep//repos//python//resources//hello_create.txt'\n"
     ]
    }
   ],
   "source": [
    "# create file\n",
    "# throw error if file already exist\n",
    "try :\n",
    "    fileread = open('D://Sandeep//repos//python//resources//hello_create.txt','x');\n",
    "    inputText = input(\"Please enter text for file content\");\n",
    "    # this will append file content\n",
    "    fileread.write(inputText);\n",
    "    print(\"File updated successfully\");\n",
    "    fileread.close();\n",
    "\n",
    "except Exception as ex:\n",
    "    print(ex);"
   ]
  },
  {
   "cell_type": "code",
   "execution_count": 20,
   "metadata": {},
   "outputs": [
    {
     "name": "stdout",
     "output_type": "stream",
     "text": [
      "file not removed\n"
     ]
    }
   ],
   "source": [
    "# Delete File\n",
    "\n",
    "import os;\n",
    "\n",
    "if os.path.exists('D://Sandeep//repos//python//resources//hello_create.txt'):\n",
    "    os.remove(\"D://Sandeep//repos//python//resources//hello_create.txt\");\n",
    "    print(\"file removed\");\n",
    "else:\n",
    "    print(\"file not removed\")\n"
   ]
  },
  {
   "cell_type": "code",
   "execution_count": 21,
   "metadata": {},
   "outputs": [
    {
     "ename": "OSError",
     "evalue": "[WinError 145] The directory is not empty: 'D://Sandeep//repos//python//resources'",
     "output_type": "error",
     "traceback": [
      "\u001b[1;31m---------------------------------------------------------------------------\u001b[0m",
      "\u001b[1;31mOSError\u001b[0m                                   Traceback (most recent call last)",
      "\u001b[1;32md:\\Sandeep\\repos\\python\\day11\\filehandling.ipynb Cell 14\u001b[0m line \u001b[0;36m6\n\u001b[0;32m      <a href='vscode-notebook-cell:/d%3A/Sandeep/repos/python/day11/filehandling.ipynb#X16sZmlsZQ%3D%3D?line=0'>1</a>\u001b[0m \u001b[39m# remove directory or folder\u001b[39;00m\n\u001b[0;32m      <a href='vscode-notebook-cell:/d%3A/Sandeep/repos/python/day11/filehandling.ipynb#X16sZmlsZQ%3D%3D?line=1'>2</a>\u001b[0m \u001b[39m# only be removed if folder is empty\u001b[39;00m\n\u001b[0;32m      <a href='vscode-notebook-cell:/d%3A/Sandeep/repos/python/day11/filehandling.ipynb#X16sZmlsZQ%3D%3D?line=3'>4</a>\u001b[0m \u001b[39mimport\u001b[39;00m \u001b[39mos\u001b[39;00m;\n\u001b[1;32m----> <a href='vscode-notebook-cell:/d%3A/Sandeep/repos/python/day11/filehandling.ipynb#X16sZmlsZQ%3D%3D?line=5'>6</a>\u001b[0m os\u001b[39m.\u001b[39;49mrmdir(\u001b[39m'\u001b[39;49m\u001b[39mD://Sandeep//repos//python//resources\u001b[39;49m\u001b[39m'\u001b[39;49m);\n\u001b[0;32m      <a href='vscode-notebook-cell:/d%3A/Sandeep/repos/python/day11/filehandling.ipynb#X16sZmlsZQ%3D%3D?line=6'>7</a>\u001b[0m \u001b[39mprint\u001b[39m(\u001b[39m\"\u001b[39m\u001b[39mfolder removed\u001b[39m\u001b[39m\"\u001b[39m);\n",
      "\u001b[1;31mOSError\u001b[0m: [WinError 145] The directory is not empty: 'D://Sandeep//repos//python//resources'"
     ]
    }
   ],
   "source": [
    "# remove directory or folder\n",
    "# only be removed if folder is empty\n",
    "\n",
    "import os;\n",
    "\n",
    "os.rmdir('D://Sandeep//repos//python//resources');\n",
    "print(\"folder removed\");\n"
   ]
  }
 ],
 "metadata": {
  "kernelspec": {
   "display_name": "Python 3",
   "language": "python",
   "name": "python3"
  },
  "language_info": {
   "codemirror_mode": {
    "name": "ipython",
    "version": 3
   },
   "file_extension": ".py",
   "mimetype": "text/x-python",
   "name": "python",
   "nbconvert_exporter": "python",
   "pygments_lexer": "ipython3",
   "version": "3.11.5"
  },
  "orig_nbformat": 4
 },
 "nbformat": 4,
 "nbformat_minor": 2
}
