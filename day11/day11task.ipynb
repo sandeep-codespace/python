{
 "cells": [
  {
   "cell_type": "markdown",
   "metadata": {},
   "source": [
    "1. create file based on user input \n",
    "\n",
    "2. read file based on user input name if not exist show error"
   ]
  },
  {
   "cell_type": "code",
   "execution_count": 5,
   "metadata": {},
   "outputs": [
    {
     "name": "stdout",
     "output_type": "stream",
     "text": [
      "File created/updated successfully\n"
     ]
    }
   ],
   "source": [
    "\n",
    "fileName = input(\"Please enter file name \")\n",
    "fileread = open('D://Sandeep//repos//python//resources//'+fileName,'a');\n",
    "inputText = input(\"Please enter text for file content\");\n",
    "# this will append to  file content\n",
    "fileread.write(inputText);\n",
    "print(\"File created/updated successfully\");\n",
    "fileread.close();"
   ]
  },
  {
   "cell_type": "code",
   "execution_count": 3,
   "metadata": {},
   "outputs": [
    {
     "name": "stdout",
     "output_type": "stream",
     "text": [
      "[Errno 2] No such file or directory: 'D://Sandeep//repos//python//resources//kjhde.txt'\n"
     ]
    }
   ],
   "source": [
    "try:\n",
    "    fileName = input(\"Please enter file name \")\n",
    "    fileread = open('D://Sandeep//repos//python//resources//'+fileName,'r');\n",
    "    inputText = input(\"Please enter text for file content\");\n",
    "    print(fileread.read());\n",
    "\n",
    "except Exception as ex:\n",
    "    print(ex);\n",
    "finally:\n",
    "    fileread.close();"
   ]
  }
 ],
 "metadata": {
  "kernelspec": {
   "display_name": "Python 3",
   "language": "python",
   "name": "python3"
  },
  "language_info": {
   "codemirror_mode": {
    "name": "ipython",
    "version": 3
   },
   "file_extension": ".py",
   "mimetype": "text/x-python",
   "name": "python",
   "nbconvert_exporter": "python",
   "pygments_lexer": "ipython3",
   "version": "3.11.5"
  },
  "orig_nbformat": 4
 },
 "nbformat": 4,
 "nbformat_minor": 2
}
