{
 "cells": [
  {
   "cell_type": "markdown",
   "metadata": {},
   "source": [
    "OOPS :  when we think in term of real world is called oops\n",
    "\n",
    "oops concepts:\n",
    " 1. class\n",
    " 2. inheritance\n",
    " 3. encapsulation\n",
    " 4. polymorphism\n",
    " 5. reusebility"
   ]
  },
  {
   "cell_type": "markdown",
   "metadata": {},
   "source": [
    "class:\n",
    " collection of data members, meber function and object as called class\n",
    "\n",
    " Data member : varibales\n",
    "\n",
    " member functions : Set of block of statement"
   ]
  },
  {
   "cell_type": "code",
   "execution_count": 1,
   "metadata": {},
   "outputs": [
    {
     "name": "stdout",
     "output_type": "stream",
     "text": [
      "my name is student\n"
     ]
    }
   ],
   "source": [
    "class Student:\n",
    "    def Information(self): # member function\n",
    "        print(\"my name is student\");\n",
    "\n",
    "st1 = Student(); # st1 is object, student us constructor\n",
    "st1.Information(); # is a calling operator"
   ]
  },
  {
   "cell_type": "code",
   "execution_count": 2,
   "metadata": {},
   "outputs": [
    {
     "name": "stdout",
     "output_type": "stream",
     "text": [
      "my name is student\n",
      "test called\n"
     ]
    }
   ],
   "source": [
    "class Student:\n",
    "    def Information(self): # member function\n",
    "        print(\"my name is student\");\n",
    "    def Test(self):\n",
    "        self.Information();\n",
    "        print(\"test called\")\n",
    "    def Hi(): # static func\n",
    "        print(\"hello\")\n",
    "\n",
    "st1 = Student(); # st1 is object, student us constructor\n",
    "st1.Test(); # is a calling operator"
   ]
  },
  {
   "cell_type": "code",
   "execution_count": 3,
   "metadata": {},
   "outputs": [
    {
     "name": "stdout",
     "output_type": "stream",
     "text": [
      "Sub is 10\n",
      "Sum is 30\n"
     ]
    }
   ],
   "source": [
    "class Student:\n",
    "    a=0;\n",
    "    b=0;\n",
    "    \n",
    "    def Find_Sub(self):\n",
    "        self.a = int(input(\"Enter value of A \"));\n",
    "        self.b = int(input(\"Enter value of B \"));\n",
    "        c = self.a- self.b\n",
    "        print(\"Sub is\", c);\n",
    "    def Find_Sum(self):\n",
    "        c= self.a+ self.b;\n",
    "        print(\"Sum is\", c);\n",
    "\n",
    "st1 = Student(); # st1 is object, student us constructor\n",
    "st1.Find_Sub(); # is a calling operator\n",
    "st1.Find_Sum(); # is a calling operator"
   ]
  },
  {
   "cell_type": "code",
   "execution_count": 5,
   "metadata": {},
   "outputs": [
    {
     "name": "stdout",
     "output_type": "stream",
     "text": [
      "result is 15\n"
     ]
    }
   ],
   "source": [
    "class Book:\n",
    "    def __init__(self,a,b):\n",
    "        c= a+b;\n",
    "        print(\"result is\", c);\n",
    "obj = Book(12,3);"
   ]
  },
  {
   "cell_type": "code",
   "execution_count": null,
   "metadata": {},
   "outputs": [],
   "source": []
  }
 ],
 "metadata": {
  "kernelspec": {
   "display_name": "Python 3",
   "language": "python",
   "name": "python3"
  },
  "language_info": {
   "codemirror_mode": {
    "name": "ipython",
    "version": 3
   },
   "file_extension": ".py",
   "mimetype": "text/x-python",
   "name": "python",
   "nbconvert_exporter": "python",
   "pygments_lexer": "ipython3",
   "version": "3.11.5"
  },
  "orig_nbformat": 4
 },
 "nbformat": 4,
 "nbformat_minor": 2
}
