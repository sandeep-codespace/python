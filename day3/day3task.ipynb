{
 "cells": [
  {
   "cell_type": "code",
   "execution_count": null,
   "metadata": {},
   "outputs": [],
   "source": [
    "# enter nuber numbtw 400 and 500 and if its odd or even\n",
    "a = int(input(\"enter value: \"));\n",
    "if a >400 and a<500:\n",
    "    if a%2 ==0:\n",
    "        print(\"value is even number\");\n",
    "    else:\n",
    "        print(\"value is odd number\");\n",
    "else:\n",
    "    print(\"out of range : Please eneter number between 400 and 500\");"
   ]
  },
  {
   "cell_type": "code",
   "execution_count": 15,
   "metadata": {},
   "outputs": [
    {
     "name": "stdout",
     "output_type": "stream",
     "text": [
      "10 20\n",
      "20 10\n",
      "10 20 30\n",
      "20 30 10\n"
     ]
    }
   ],
   "source": [
    "# we can directly swap value in python\n",
    "\n",
    "x =10;\n",
    "y=20;\n",
    "print(x,y);\n",
    "y,x = x,y;\n",
    "print(x,y);\n",
    "\n",
    "#same goes for n number of swaps\n",
    "\n",
    "x,y,z = 10,20,30;\n",
    "print(x,y,z);\n",
    "z,x,y = x,y,z;\n",
    "print(x,y,z);"
   ]
  },
  {
   "cell_type": "code",
   "execution_count": 2,
   "metadata": {},
   "outputs": [
    {
     "name": "stdout",
     "output_type": "stream",
     "text": [
      "Enetred char is   vowel\n"
     ]
    }
   ],
   "source": [
    "# find char is vowel on not\n",
    "vowels = ['a','e','i','o','u'];\n",
    "inputValue  = input(\"please enetr char: \");\n",
    "\n",
    "if inputValue  in vowels:\n",
    "    print(\"Enetred char is   vowel\");\n",
    "else:\n",
    "    print(\"Enetred char is  not a vowel\");"
   ]
  },
  {
   "cell_type": "code",
   "execution_count": 3,
   "metadata": {},
   "outputs": [
    {
     "name": "stdout",
     "output_type": "stream",
     "text": [
      "Enetred char is not avowel\n"
     ]
    }
   ],
   "source": [
    "# find char is vowel on not\n",
    "vowels = ['a','e','i','o','u'];\n",
    "inputValue  = input(\"please enetr char: \");\n",
    "\n",
    "if inputValue  not in vowels:\n",
    "    print(\"Enetred char is not a vowel\");\n",
    "else:\n",
    "    print(\"Enetred char is  a vowel\");"
   ]
  }
 ],
 "metadata": {
  "kernelspec": {
   "display_name": "Python 3",
   "language": "python",
   "name": "python3"
  },
  "language_info": {
   "codemirror_mode": {
    "name": "ipython",
    "version": 3
   },
   "file_extension": ".py",
   "mimetype": "text/x-python",
   "name": "python",
   "nbconvert_exporter": "python",
   "pygments_lexer": "ipython3",
   "version": "3.11.5"
  },
  "orig_nbformat": 4
 },
 "nbformat": 4,
 "nbformat_minor": 2
}
