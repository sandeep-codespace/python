{
 "cells": [
  {
   "cell_type": "code",
   "execution_count": null,
   "metadata": {},
   "outputs": [],
   "source": [
    "# enter nuber numbtw 400 and 500 and if its odd or even\n",
    "a = int(input(\"enter value: \"));\n",
    "if a >400 and a<500:\n",
    "    if a%2 ==0:\n",
    "        print(\"value is even number\");\n",
    "    else:\n",
    "        print(\"value is odd number\");\n",
    "else:\n",
    "    print(\"out of range : Please eneter number between 400 and 500\");"
   ]
  },
  {
   "cell_type": "code",
   "execution_count": 15,
   "metadata": {},
   "outputs": [
    {
     "name": "stdout",
     "output_type": "stream",
     "text": [
      "10 20\n",
      "20 10\n",
      "10 20 30\n",
      "20 30 10\n"
     ]
    }
   ],
   "source": [
    "# we can directly swap value in python\n",
    "\n",
    "x =10;\n",
    "y=20;\n",
    "print(x,y);\n",
    "y,x = x,y;\n",
    "print(x,y);\n",
    "\n",
    "#same goes for n number of swaps\n",
    "\n",
    "x,y,z = 10,20,30;\n",
    "print(x,y,z);\n",
    "z,x,y = x,y,z;\n",
    "print(x,y,z);"
   ]
  },
  {
   "cell_type": "code",
   "execution_count": 2,
   "metadata": {},
   "outputs": [
    {
     "name": "stdout",
     "output_type": "stream",
     "text": [
      "Enetred char is   vowel\n"
     ]
    }
   ],
   "source": [
    "# find char is vowel on not\n",
    "vowels = ['a','e','i','o','u'];\n",
    "inputValue  = input(\"please enetr char: \").lower();\n",
    "\n",
    "if inputValue  in vowels:\n",
    "    print(\"Enetred char is   vowel\");\n",
    "else:\n",
    "    print(\"Enetred char is  not a vowel\");"
   ]
  },
  {
   "cell_type": "code",
   "execution_count": 4,
   "metadata": {},
   "outputs": [
    {
     "name": "stdout",
     "output_type": "stream",
     "text": [
      "Enetred char is  a vowel\n"
     ]
    }
   ],
   "source": [
    "# find char is vowel on not\n",
    "vowels = ['a','e','i','o','u'];\n",
    "inputValue  = input(\"please enetr char: \").lower();\n",
    "\n",
    "if inputValue  not in vowels:\n",
    "    print(\"Enetred char is not a vowel\");\n",
    "else:\n",
    "    print(\"Enetred char is  a vowel\");"
   ]
  },
  {
   "cell_type": "code",
   "execution_count": 6,
   "metadata": {},
   "outputs": [
    {
     "name": "stdout",
     "output_type": "stream",
     "text": [
      "Enetred char is  a vowel\n"
     ]
    }
   ],
   "source": [
    "# find char is vowel on not in can ce userd on single text as well insr=tead of an array\n",
    "vowels = \"aeiou\";\n",
    "inputValue  = input(\"please enetr char: \").lower();\n",
    "\n",
    "if inputValue  not in vowels:\n",
    "    print(\"Enetred char is not a vowel\");\n",
    "else:\n",
    "    print(\"Enetred char is  a vowel\");"
   ]
  },
  {
   "cell_type": "markdown",
   "metadata": {},
   "source": [
    "Input 4 num and find greater of them  if all equal then print all equal\n",
    "input 5 subject marks and find total and cal % if 33 < fail, 33>pass , 60 > merit"
   ]
  },
  {
   "cell_type": "code",
   "execution_count": 7,
   "metadata": {},
   "outputs": [
    {
     "name": "stdout",
     "output_type": "stream",
     "text": [
      "all equal\n"
     ]
    }
   ],
   "source": [
    "num1  = int(input(\"please enetr num1 marks: \"));\n",
    "num2  = int(input(\"please enetr num2 marks: \"));\n",
    "num3  = int(input(\"please enetr num3 marks: \"));\n",
    "num4  = int(input(\"please enetr num4 marks: \"));\n",
    "\n",
    "if num1 > num2 and num1 > num3 and num1 > num4:\n",
    "    print(\"max value is\", num1);\n",
    "elif num2 > num1 and num2 > num3 and num2 > num4:\n",
    "    print(\"max value is\", num2);\n",
    "elif num3 > num1 and num3 > num2 and num3 > num4:\n",
    "    print(\"max value is\", num3);\n",
    "elif num4 > num1 and num4 > num2 and num4 > num3:\n",
    "    print(\"max value is\", num4);\n",
    "else:\n",
    "    print(\"all equal\");"
   ]
  },
  {
   "cell_type": "code",
   "execution_count": 1,
   "metadata": {},
   "outputs": [],
   "source": [
    "sub1  = float(input(\"please enetr sub1 marks: \"));\n",
    "sub2  = float(input(\"please enetr sub2 marks: \"));\n",
    "sub3  = float(input(\"please enetr sub3 marks: \"));\n",
    "sub4  = float(input(\"please enetr sub4 marks: \"));\n",
    "sub5  = float(input(\"please enetr sub5 marks: \"));\n",
    "\n",
    "total = sub1+sub2+sub3+sub4+sub5;\n",
    "\n",
    "\n",
    "if total > (33/100 * 500) && total < (60/100 * 500):\n",
    "    print(\"Exam pass\");\n",
    "elif total >= (60/100 * 500):\n",
    "    print(\"pass in merit\");\n",
    "else:\n",
    "    print(\"fail\");\n",
    "\n"
   ]
  }
 ],
 "metadata": {
  "kernelspec": {
   "display_name": "Python 3",
   "language": "python",
   "name": "python3"
  },
  "language_info": {
   "codemirror_mode": {
    "name": "ipython",
    "version": 3
   },
   "file_extension": ".py",
   "mimetype": "text/x-python",
   "name": "python",
   "nbconvert_exporter": "python",
   "pygments_lexer": "ipython3",
   "version": "3.11.5"
  },
  "orig_nbformat": 4
 },
 "nbformat": 4,
 "nbformat_minor": 2
}
