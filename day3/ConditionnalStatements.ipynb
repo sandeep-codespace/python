{
 "cells": [
  {
   "cell_type": "markdown",
   "metadata": {},
   "source": [
    "Conditional statements and operators\n",
    "#identity operators  : is, not is\n",
    "membership operators : in, not in\n",
    "arithmetic operators : +,-,*,/,%\n",
    "comparision operators: >,<,<=,>=,==,!=\n",
    "logical opertaors:  and , or,  not\n",
    "\n",
    "if,\n",
    "if else\n",
    "else if (elif)\n",
    "nested if else"
   ]
  },
  {
   "cell_type": "code",
   "execution_count": 3,
   "metadata": {},
   "outputs": [
    {
     "name": "stdout",
     "output_type": "stream",
     "text": [
      "first is greater than second\n"
     ]
    }
   ],
   "source": [
    "a = int(input(\"enter first value: \"));\n",
    "b = int(input(\"enter second value: \"));\n",
    "if a>b :\n",
    "    print(\"first is greater than second\");\n"
   ]
  },
  {
   "cell_type": "code",
   "execution_count": 4,
   "metadata": {},
   "outputs": [
    {
     "name": "stdout",
     "output_type": "stream",
     "text": [
      "first is greater than  or equal to second\n"
     ]
    }
   ],
   "source": [
    "a = int(input(\"enter first value: \"));\n",
    "b = int(input(\"enter second value: \"));\n",
    "if a>=b :\n",
    "    print(\"first is greater than  or equal to second\");"
   ]
  },
  {
   "cell_type": "code",
   "execution_count": 6,
   "metadata": {},
   "outputs": [
    {
     "name": "stdout",
     "output_type": "stream",
     "text": [
      "second value is  greater than first\n"
     ]
    }
   ],
   "source": [
    "a = int(input(\"enter first value: \"));\n",
    "b = int(input(\"enter second value: \"));\n",
    "if a>b :\n",
    "    print(\"first is greater than second\");\n",
    "else:\n",
    "    print(\"second value is  greater than first\")"
   ]
  },
  {
   "cell_type": "code",
   "execution_count": 7,
   "metadata": {},
   "outputs": [
    {
     "name": "stdout",
     "output_type": "stream",
     "text": [
      "second value is  greater than first\n"
     ]
    }
   ],
   "source": [
    "a = int(input(\"enter first value: \"));\n",
    "b = int(input(\"enter second value: \"));\n",
    "if a>b :\n",
    "    print(\"first is greater than second\");\n",
    "elif b >a:\n",
    "    print(\"second value is  greater than first\");\n",
    "else:\n",
    "    print(\"both are equal\");"
   ]
  },
  {
   "cell_type": "code",
   "execution_count": 8,
   "metadata": {},
   "outputs": [
    {
     "name": "stdout",
     "output_type": "stream",
     "text": [
      "both are equal\n"
     ]
    }
   ],
   "source": [
    "a = int(input(\"enter first value: \"));\n",
    "b = int(input(\"enter second value: \"));\n",
    "if a>b :\n",
    "    print(\"first is greater than second\");\n",
    "elif b >a:\n",
    "    print(\"second value is  greater than first\");\n",
    "elif a == b:\n",
    "    print(\"both are equal\");"
   ]
  },
  {
   "cell_type": "code",
   "execution_count": 9,
   "metadata": {},
   "outputs": [
    {
     "name": "stdout",
     "output_type": "stream",
     "text": [
      "statement always set to be true\n"
     ]
    }
   ],
   "source": [
    "if True:\n",
    "    print(\"statement always set to be true\");\n",
    "else: \n",
    "    print(\"else execution\");"
   ]
  },
  {
   "cell_type": "code",
   "execution_count": 10,
   "metadata": {},
   "outputs": [
    {
     "name": "stdout",
     "output_type": "stream",
     "text": [
      "else execution\n"
     ]
    }
   ],
   "source": [
    "if False:\n",
    "    print(\"statement always set to be false\");\n",
    "else: \n",
    "    print(\"else execution\");"
   ]
  },
  {
   "cell_type": "code",
   "execution_count": 14,
   "metadata": {},
   "outputs": [
    {
     "name": "stdout",
     "output_type": "stream",
     "text": [
      "out of range\n"
     ]
    }
   ],
   "source": [
    "a = int(input(\"enter value: \"));\n",
    "if a >10 and a<20:\n",
    "    print(\"value is between 10 and 20\")\n",
    "else:\n",
    "    print(\"out of range\");"
   ]
  },
  {
   "cell_type": "code",
   "execution_count": 15,
   "metadata": {},
   "outputs": [
    {
     "name": "stdout",
     "output_type": "stream",
     "text": [
      "value is greater than 10 or less than 20\n"
     ]
    }
   ],
   "source": [
    "a = int(input(\"enter value: \"));\n",
    "if a >10 or a<20:\n",
    "    print(\"value is greater than 10 or less than 20\");\n",
    "else:\n",
    "    print(\"out of range\");"
   ]
  },
  {
   "cell_type": "code",
   "execution_count": 17,
   "metadata": {},
   "outputs": [
    {
     "name": "stdout",
     "output_type": "stream",
     "text": [
      "equal\n"
     ]
    }
   ],
   "source": [
    "a = int(input(\"enter first value: \"));\n",
    "b = int(input(\"enter second value: \"));\n",
    "\n",
    "if a>b:\n",
    "    print(\"first is grt than scnd\");\n",
    "else:\n",
    "    if b >a:\n",
    "        print(\"scnd is grt than frst\");\n",
    "    else:\n",
    "        print(\"equal\");"
   ]
  },
  {
   "cell_type": "code",
   "execution_count": 20,
   "metadata": {},
   "outputs": [
    {
     "name": "stdout",
     "output_type": "stream",
     "text": [
      "out of range : Please eneter number between 400 and 500\n"
     ]
    }
   ],
   "source": [
    "a = int(input(\"enter value: \"));\n",
    "if a >400 and a<500:\n",
    "    if a%2 ==0:\n",
    "        print(\"value is even number\");\n",
    "    else:\n",
    "        print(\"value is odd number\");\n",
    "else:\n",
    "    print(\"out of range : Please eneter number between 400 and 500\");"
   ]
  }
 ],
 "metadata": {
  "kernelspec": {
   "display_name": "Python 3",
   "language": "python",
   "name": "python3"
  },
  "language_info": {
   "codemirror_mode": {
    "name": "ipython",
    "version": 3
   },
   "file_extension": ".py",
   "mimetype": "text/x-python",
   "name": "python",
   "nbconvert_exporter": "python",
   "pygments_lexer": "ipython3",
   "version": "3.11.5"
  },
  "orig_nbformat": 4
 },
 "nbformat": 4,
 "nbformat_minor": 2
}
