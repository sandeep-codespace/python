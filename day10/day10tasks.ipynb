{
 "cells": [
  {
   "cell_type": "markdown",
   "metadata": {},
   "source": [
    "1. sum of two numbers  first two  or manual two num and find sum\n",
    "run code for 10 minutes\n",
    "start runing from a specific time window\n",
    "\n",
    "2. enter first value , second  find sum\n",
    " re continue  , yes or no\n"
   ]
  },
  {
   "cell_type": "code",
   "execution_count": 17,
   "metadata": {},
   "outputs": [
    {
     "name": "stdout",
     "output_type": "stream",
     "text": [
      "Sorry you have missed the time window Please try tomorrow\n"
     ]
    }
   ],
   "source": [
    "import datetime;\n",
    "\n",
    "def validateTimeWindow():\n",
    "    \n",
    "    dateTimeNow = datetime.datetime.now();\n",
    "    currentHour = int(datetime.datetime.now().strftime(\"%H\"));\n",
    "    currentMinutes = int(datetime.datetime.now().strftime(\"%M\"));\n",
    "    \n",
    "    if currentHour == 9 and (currentMinutes >=45 and currentMinutes <= 55):\n",
    "        sum();\n",
    "    else:\n",
    "        calculateAndPrintTimeDiff(dateTimeNow, currentHour,currentMinutes);\n",
    "        \n",
    "    \n",
    "     \n",
    "def sum():\n",
    "    num1  = int(input(\"please enetr num1 : \"));\n",
    "    num2  = int(input(\"please enetr num2 : \"));\n",
    "    \n",
    "    print(\"Sum of two num is:\", num1+num2);\n",
    "    \n",
    "def calculateAndPrintTimeDiff(dateTimeNow,currentHour,currentMinutes):\n",
    "    if currentHour  > 10 :\n",
    "        print(\"Sorry you have missed the time window Please try tomorrow\");\n",
    "    else :\n",
    "        print(\"Please try after :\")\n",
    "   \n",
    "validateTimeWindow();\n",
    "\n",
    "\n",
    "\n"
   ]
  }
 ],
 "metadata": {
  "kernelspec": {
   "display_name": "Python 3",
   "language": "python",
   "name": "python3"
  },
  "language_info": {
   "codemirror_mode": {
    "name": "ipython",
    "version": 3
   },
   "file_extension": ".py",
   "mimetype": "text/x-python",
   "name": "python",
   "nbconvert_exporter": "python",
   "pygments_lexer": "ipython3",
   "version": "3.11.5"
  },
  "orig_nbformat": 4
 },
 "nbformat": 4,
 "nbformat_minor": 2
}
