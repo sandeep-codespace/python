{
 "cells": [
  {
   "cell_type": "markdown",
   "metadata": {},
   "source": [
    "1. sum of two numbers  first two  or manual two num and find sum\n",
    "run code for 10 minutes\n",
    "start runing from a specific time window\n",
    "\n",
    "2. enter first value , second  find sum\n",
    " re continue  , yes or no\n"
   ]
  },
  {
   "cell_type": "code",
   "execution_count": 13,
   "metadata": {},
   "outputs": [
    {
     "name": "stdout",
     "output_type": "stream",
     "text": [
      "Please try after :\n"
     ]
    }
   ],
   "source": [
    "import datetime;\n",
    "\n",
    "def validateTimeWindow():\n",
    "    \n",
    "    dateTimeNow = datetime.datetime.now();\n",
    "    currentHour = int(datetime.datetime.now().strftime(\"%H\"));\n",
    "    currentMinutes = int(datetime.datetime.now().strftime(\"%M\"));\n",
    "    \n",
    "    if currentHour == 9 and (currentMinutes >=45 and currentMinutes <= 55):\n",
    "        sum();\n",
    "    else:\n",
    "        calculateAndPrintTimeDiff(dateTimeNow, currentHour,currentMinutes);\n",
    "        \n",
    "    \n",
    "     \n",
    "def sum():\n",
    "    num1  = int(input(\"please enetr num1 : \"));\n",
    "    num2  = int(input(\"please enetr num2 : \"));\n",
    "    \n",
    "    print(\"Sum of two num is:\", num1+num2);\n",
    "    \n",
    "def calculateAndPrintTimeDiff(dateTimeNow,currentHour,currentMinutes):\n",
    "    if currentHour  > 10 :\n",
    "        print(\"Sorry you have missed the time window Please try tomorrow\");\n",
    "    else :\n",
    "        print(\"Please try after :\")\n",
    "   \n",
    "validateTimeWindow();\n",
    "\n",
    "\n",
    "\n"
   ]
  },
  {
   "cell_type": "code",
   "execution_count": 14,
   "metadata": {},
   "outputs": [
    {
     "name": "stdout",
     "output_type": "stream",
     "text": [
      "still executing True\n",
      "Sum of two num is: 30\n",
      "getContinueResponse: no\n",
      "validateExecution: no\n",
      "keepExecuting:  False\n",
      "still executing True\n"
     ]
    },
    {
     "ename": "KeyboardInterrupt",
     "evalue": "Interrupted by user",
     "output_type": "error",
     "traceback": [
      "\u001b[1;31m---------------------------------------------------------------------------\u001b[0m",
      "\u001b[1;31mKeyboardInterrupt\u001b[0m                         Traceback (most recent call last)",
      "\u001b[1;32md:\\Sandeep\\repos\\python\\day10\\day10tasks.ipynb Cell 3\u001b[0m line \u001b[0;36m3\n\u001b[0;32m     <a href='vscode-notebook-cell:/d%3A/Sandeep/repos/python/day10/day10tasks.ipynb#W2sZmlsZQ%3D%3D?line=35'>36</a>\u001b[0m \u001b[39mif\u001b[39;00m keepExecuting \u001b[39m==\u001b[39m \u001b[39mFalse\u001b[39;00m :\n\u001b[0;32m     <a href='vscode-notebook-cell:/d%3A/Sandeep/repos/python/day10/day10tasks.ipynb#W2sZmlsZQ%3D%3D?line=36'>37</a>\u001b[0m     \u001b[39mbreak\u001b[39;00m;\n\u001b[1;32m---> <a href='vscode-notebook-cell:/d%3A/Sandeep/repos/python/day10/day10tasks.ipynb#W2sZmlsZQ%3D%3D?line=37'>38</a>\u001b[0m \u001b[39msum\u001b[39;49m();\n",
      "\u001b[1;32md:\\Sandeep\\repos\\python\\day10\\day10tasks.ipynb Cell 3\u001b[0m line \u001b[0;36m3\n\u001b[0;32m      <a href='vscode-notebook-cell:/d%3A/Sandeep/repos/python/day10/day10tasks.ipynb#W2sZmlsZQ%3D%3D?line=1'>2</a>\u001b[0m \u001b[39mdef\u001b[39;00m \u001b[39msum\u001b[39m():\n\u001b[1;32m----> <a href='vscode-notebook-cell:/d%3A/Sandeep/repos/python/day10/day10tasks.ipynb#W2sZmlsZQ%3D%3D?line=2'>3</a>\u001b[0m     num1  \u001b[39m=\u001b[39m \u001b[39mint\u001b[39m(\u001b[39minput\u001b[39;49m(\u001b[39m\"\u001b[39;49m\u001b[39mplease enetr num1 : \u001b[39;49m\u001b[39m\"\u001b[39;49m));\n\u001b[0;32m      <a href='vscode-notebook-cell:/d%3A/Sandeep/repos/python/day10/day10tasks.ipynb#W2sZmlsZQ%3D%3D?line=3'>4</a>\u001b[0m     num2  \u001b[39m=\u001b[39m \u001b[39mint\u001b[39m(\u001b[39minput\u001b[39m(\u001b[39m\"\u001b[39m\u001b[39mplease enetr num2 : \u001b[39m\u001b[39m\"\u001b[39m));\n\u001b[0;32m      <a href='vscode-notebook-cell:/d%3A/Sandeep/repos/python/day10/day10tasks.ipynb#W2sZmlsZQ%3D%3D?line=5'>6</a>\u001b[0m     \u001b[39mprint\u001b[39m(\u001b[39m\"\u001b[39m\u001b[39mSum of two num is:\u001b[39m\u001b[39m\"\u001b[39m, num1\u001b[39m+\u001b[39mnum2);\n",
      "File \u001b[1;32mc:\\Users\\Sandeep-Dev\\AppData\\Local\\Programs\\Python\\Python311\\Lib\\site-packages\\ipykernel\\kernelbase.py:1202\u001b[0m, in \u001b[0;36mKernel.raw_input\u001b[1;34m(self, prompt)\u001b[0m\n\u001b[0;32m   1200\u001b[0m     msg \u001b[39m=\u001b[39m \u001b[39m\"\u001b[39m\u001b[39mraw_input was called, but this frontend does not support input requests.\u001b[39m\u001b[39m\"\u001b[39m\n\u001b[0;32m   1201\u001b[0m     \u001b[39mraise\u001b[39;00m StdinNotImplementedError(msg)\n\u001b[1;32m-> 1202\u001b[0m \u001b[39mreturn\u001b[39;00m \u001b[39mself\u001b[39;49m\u001b[39m.\u001b[39;49m_input_request(\n\u001b[0;32m   1203\u001b[0m     \u001b[39mstr\u001b[39;49m(prompt),\n\u001b[0;32m   1204\u001b[0m     \u001b[39mself\u001b[39;49m\u001b[39m.\u001b[39;49m_parent_ident[\u001b[39m\"\u001b[39;49m\u001b[39mshell\u001b[39;49m\u001b[39m\"\u001b[39;49m],\n\u001b[0;32m   1205\u001b[0m     \u001b[39mself\u001b[39;49m\u001b[39m.\u001b[39;49mget_parent(\u001b[39m\"\u001b[39;49m\u001b[39mshell\u001b[39;49m\u001b[39m\"\u001b[39;49m),\n\u001b[0;32m   1206\u001b[0m     password\u001b[39m=\u001b[39;49m\u001b[39mFalse\u001b[39;49;00m,\n\u001b[0;32m   1207\u001b[0m )\n",
      "File \u001b[1;32mc:\\Users\\Sandeep-Dev\\AppData\\Local\\Programs\\Python\\Python311\\Lib\\site-packages\\ipykernel\\kernelbase.py:1245\u001b[0m, in \u001b[0;36mKernel._input_request\u001b[1;34m(self, prompt, ident, parent, password)\u001b[0m\n\u001b[0;32m   1242\u001b[0m \u001b[39mexcept\u001b[39;00m \u001b[39mKeyboardInterrupt\u001b[39;00m:\n\u001b[0;32m   1243\u001b[0m     \u001b[39m# re-raise KeyboardInterrupt, to truncate traceback\u001b[39;00m\n\u001b[0;32m   1244\u001b[0m     msg \u001b[39m=\u001b[39m \u001b[39m\"\u001b[39m\u001b[39mInterrupted by user\u001b[39m\u001b[39m\"\u001b[39m\n\u001b[1;32m-> 1245\u001b[0m     \u001b[39mraise\u001b[39;00m \u001b[39mKeyboardInterrupt\u001b[39;00m(msg) \u001b[39mfrom\u001b[39;00m \u001b[39mNone\u001b[39;00m\n\u001b[0;32m   1246\u001b[0m \u001b[39mexcept\u001b[39;00m \u001b[39mException\u001b[39;00m:\n\u001b[0;32m   1247\u001b[0m     \u001b[39mself\u001b[39m\u001b[39m.\u001b[39mlog\u001b[39m.\u001b[39mwarning(\u001b[39m\"\u001b[39m\u001b[39mInvalid Message:\u001b[39m\u001b[39m\"\u001b[39m, exc_info\u001b[39m=\u001b[39m\u001b[39mTrue\u001b[39;00m)\n",
      "\u001b[1;31mKeyboardInterrupt\u001b[0m: Interrupted by user"
     ]
    }
   ],
   "source": [
    "keepExecuting = True;\n",
    "def sum():\n",
    "    num1  = int(input(\"please enetr num1 : \"));\n",
    "    num2  = int(input(\"please enetr num2 : \"));\n",
    "    \n",
    "    print(\"Sum of two num is:\", num1+num2);\n",
    "    keepExecuting = validateExecution();\n",
    "    \n",
    "def getContinueResponse():\n",
    "        response  = input(\"Do you want to continue yes/no: \");\n",
    "        if(response.lower() !='no' and response.lower() !='yes' ):\n",
    "            print(\"Please enter valid value as yes/no\");\n",
    "            response  = input(\"Do you want to continue yes/no: \");\n",
    "        \n",
    "        print(\"getContinueResponse: \" + response);\n",
    "        return response;\n",
    "\n",
    "def validateExecution():\n",
    "    \n",
    "   response = getContinueResponse();\n",
    "   print(\"validateExecution: \" + response);\n",
    "   while((response.lower() !='no' and response.lower() !='yes')): \n",
    "            if(response.lower() =='no' or response.lower() =='yes'):\n",
    "                break;\n",
    "            response = getContinueResponse();\n",
    "            \n",
    "    \n",
    "   if(response.lower() =='no'):\n",
    "        keepExecuting= False;\n",
    "   else:\n",
    "        keepExecuting = True;\n",
    "   print(\"keepExecuting: \" , keepExecuting);\n",
    "\n",
    "while(keepExecuting):\n",
    "    print(\"still executing\",keepExecuting);\n",
    "    if keepExecuting == False :\n",
    "        break;\n",
    "    sum();\n",
    "    \n"
   ]
  }
 ],
 "metadata": {
  "kernelspec": {
   "display_name": "Python 3",
   "language": "python",
   "name": "python3"
  },
  "language_info": {
   "codemirror_mode": {
    "name": "ipython",
    "version": 3
   },
   "file_extension": ".py",
   "mimetype": "text/x-python",
   "name": "python",
   "nbconvert_exporter": "python",
   "pygments_lexer": "ipython3",
   "version": "3.11.5"
  },
  "orig_nbformat": 4
 },
 "nbformat": 4,
 "nbformat_minor": 2
}
