{
 "cells": [
  {
   "cell_type": "markdown",
   "metadata": {},
   "source": [
    "1. sum of two numbers  first two  or manual two num and find sum\n",
    "run code for 10 minutes\n",
    "start runing from a specific time window\n",
    "\n",
    "2. enter first value , second  find sum\n",
    " re continue  , yes or no  \n"
   ]
  },
  {
   "cell_type": "code",
   "execution_count": null,
   "metadata": {},
   "outputs": [],
   "source": []
  }
 ],
 "metadata": {
  "language_info": {
   "name": "python"
  },
  "orig_nbformat": 4
 },
 "nbformat": 4,
 "nbformat_minor": 2
}
