{
 "cells": [
  {
   "cell_type": "markdown",
   "metadata": {},
   "source": [
    "Exception Handling"
   ]
  },
  {
   "cell_type": "code",
   "execution_count": 5,
   "metadata": {},
   "outputs": [
    {
     "name": "stdout",
     "output_type": "stream",
     "text": [
      "test\n",
      "name 'unknown' is not defined\n"
     ]
    }
   ],
   "source": [
    "try:\n",
    "    print(\"test\")\n",
    "    print(unknown);\n",
    "\n",
    "    print(\"run after exception occure\")\n",
    "except Exception as ex:\n",
    "    print(ex);"
   ]
  },
  {
   "cell_type": "code",
   "execution_count": 6,
   "metadata": {},
   "outputs": [
    {
     "name": "stdout",
     "output_type": "stream",
     "text": [
      "sum is  6.0\n"
     ]
    }
   ],
   "source": [
    "try:\n",
    "    a = int(input(\"enter first value: \"));\n",
    "    b = int(input(\"enter second value: \"));\n",
    "    c = a/b;\n",
    "    print(\"sum is \", c);\n",
    "except Exception as ex:\n",
    "    print(ex);"
   ]
  },
  {
   "cell_type": "code",
   "execution_count": 3,
   "metadata": {},
   "outputs": [
    {
     "name": "stdout",
     "output_type": "stream",
     "text": [
      "sum is  1.0\n",
      "print other value on success\n",
      "end of program execution\n"
     ]
    }
   ],
   "source": [
    "try:\n",
    "    a = int(input(\"enter first value: \"));\n",
    "    b = int(input(\"enter second value: \"));\n",
    "    c = a/b;\n",
    "    print(\"sum is \", c);\n",
    "except Exception as ex:\n",
    "    print(ex);\n",
    "else:\n",
    "    print(\"print other value on success\")\n",
    "finally:\n",
    "    print(\"end of program execution\");"
   ]
  }
 ],
 "metadata": {
  "kernelspec": {
   "display_name": "Python 3",
   "language": "python",
   "name": "python3"
  },
  "language_info": {
   "codemirror_mode": {
    "name": "ipython",
    "version": 3
   },
   "file_extension": ".py",
   "mimetype": "text/x-python",
   "name": "python",
   "nbconvert_exporter": "python",
   "pygments_lexer": "ipython3",
   "version": "3.11.5"
  },
  "orig_nbformat": 4
 },
 "nbformat": 4,
 "nbformat_minor": 2
}
