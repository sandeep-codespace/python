{
 "cells": [
  {
   "cell_type": "markdown",
   "metadata": {},
   "source": []
  },
  {
   "cell_type": "markdown",
   "metadata": {},
   "source": [
    "Date and Time :\n",
    "Format and dispay time and dates\n",
    "\n",
    "print weekday fullname use : strftime('%A')\n",
    "print weekday abr use : strftime('%a')\n",
    "print weekday as numeric value such as sunday = 0, monday =1 and so on \n",
    "print weekday value with 2 digit strftime(\"%W\") = 03, and when user %w will show single value  = 3 for wednesday\n",
    "%d :  day of month : 17\n",
    "%D : short form date : 01/17/68\n",
    "%b: month short name\n",
    "%B: full month name\n",
    "%m: month in digit single\n",
    "%M : month value in digit double digit\n",
    "%y: year last two digit\n",
    "%Y: full year"
   ]
  },
  {
   "cell_type": "code",
   "execution_count": 1,
   "metadata": {},
   "outputs": [
    {
     "name": "stdout",
     "output_type": "stream",
     "text": [
      "2023-10-03 10:01:27.092474\n"
     ]
    }
   ],
   "source": [
    "import datetime;\n",
    "\n",
    "date = datetime.datetime.now();\n",
    "\n",
    "print(date)"
   ]
  },
  {
   "cell_type": "markdown",
   "metadata": {},
   "source": []
  },
  {
   "cell_type": "code",
   "execution_count": 17,
   "metadata": {},
   "outputs": [
    {
     "name": "stdout",
     "output_type": "stream",
     "text": [
      "1968-01-17 00:00:00\n",
      "Wednesday\n",
      "Wed\n",
      "3\n",
      "03\n",
      "17\n",
      "01/17/68\n",
      "Jan\n",
      "January\n",
      "01\n",
      "00\n",
      "68\n",
      "1968\n",
      "1968\n",
      "10\n",
      "10\n",
      "44\n",
      "855422\n",
      "276\n",
      "40\n",
      "Tue Oct  3 10:21:44 2023\n",
      "10/03/23\n",
      "20\n"
     ]
    }
   ],
   "source": [
    "import datetime;\n",
    "\n",
    "date = datetime.datetime(1968,1,17);\n",
    "dateTimeNow = datetime.datetime.now();\n",
    "\n",
    "print(date);\n",
    "print(date.strftime(\"%A\"));\n",
    "print(date.strftime(\"%a\"));\n",
    "print(date.strftime(\"%w\"));\n",
    "print(date.strftime(\"%W\"));\n",
    "\n",
    "print(date.strftime(\"%d\"));\n",
    "print(date.strftime(\"%D\"));\n",
    "\n",
    "print(date.strftime(\"%b\"));\n",
    "print(date.strftime(\"%B\"));\n",
    "\n",
    "print(date.strftime(\"%m\"));\n",
    "print(date.strftime(\"%M\"));\n",
    "print(date.strftime(\"%y\"));\n",
    "print(date.strftime(\"%Y\"));\n",
    "print(date.strftime(\"%Y\"));\n",
    "print(dateTimeNow.strftime(\"%H\")) # 24 hour format\n",
    "print(dateTimeNow.strftime(\"%I\")) # 12 hour format\n",
    "print(dateTimeNow.strftime(\"%S\")) #  seconds\n",
    "print(dateTimeNow.strftime(\"%f\")) #  mili seconds\n",
    "print(dateTimeNow.strftime(\"%j\")) #  total days passed of year\n",
    "print(dateTimeNow.strftime(\"%U\")) #  total weeks passed of year\n",
    "print(dateTimeNow.strftime(\"%c\")) #  print date Tue Oct  3 10:21:05 2023\n",
    "print(dateTimeNow.strftime(\"%x\")) #  print date Tue Oct  3 10:21:05 2023\n",
    "print(dateTimeNow.strftime(\"%C\")) #  print  century\n"
   ]
  },
  {
   "cell_type": "code",
   "execution_count": 18,
   "metadata": {},
   "outputs": [
    {
     "name": "stdout",
     "output_type": "stream",
     "text": [
      "AM\n"
     ]
    }
   ],
   "source": [
    "import datetime;\n",
    "\n",
    "dateTimeNow = datetime.datetime.now();\n",
    "print(dateTimeNow.strftime(\"%p\"))"
   ]
  }
 ],
 "metadata": {
  "kernelspec": {
   "display_name": "Python 3",
   "language": "python",
   "name": "python3"
  },
  "language_info": {
   "codemirror_mode": {
    "name": "ipython",
    "version": 3
   },
   "file_extension": ".py",
   "mimetype": "text/x-python",
   "name": "python",
   "nbconvert_exporter": "python",
   "pygments_lexer": "ipython3",
   "version": "3.11.5"
  },
  "orig_nbformat": 4
 },
 "nbformat": 4,
 "nbformat_minor": 2
}
