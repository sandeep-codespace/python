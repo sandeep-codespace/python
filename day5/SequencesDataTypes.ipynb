{
 "cells": [
  {
   "cell_type": "markdown",
   "metadata": {},
   "source": [
    "Sequence Data Types\n",
    "1. List : used to store multiple items in a single variables.\n",
    "2. ListItems: are ordered changebale and allow duplicate values\n",
    "3. listeitem are index with first has index start from zero and so on \n",
    "4. declared with help of seqare bracets : [ 1,2,3]\n"
   ]
  },
  {
   "cell_type": "markdown",
   "metadata": {},
   "source": [
    "print type of list\n",
    "print first element\n",
    "print length of list"
   ]
  },
  {
   "cell_type": "code",
   "execution_count": 2,
   "metadata": {},
   "outputs": [
    {
     "name": "stdout",
     "output_type": "stream",
     "text": [
      "<class 'list'>\n",
      "67\n",
      "5\n"
     ]
    }
   ],
   "source": [
    "n = [67,23,90,'name',12.34];\n",
    "print(type(n));\n",
    "print(n[0]);\n",
    "print(len(n));"
   ]
  },
  {
   "cell_type": "code",
   "execution_count": 3,
   "metadata": {},
   "outputs": [
    {
     "name": "stdout",
     "output_type": "stream",
     "text": [
      "List items are: \n",
      "67\n",
      "23\n",
      "90\n",
      "name\n",
      "12.34\n"
     ]
    }
   ],
   "source": [
    "n = [67,23,90,'name',12.34];\n",
    "print(\"List items are: \")\n",
    "for  item in  n:\n",
    "    print(item);"
   ]
  },
  {
   "cell_type": "markdown",
   "metadata": {},
   "source": [
    "Find max and min value in numeric list"
   ]
  },
  {
   "cell_type": "code",
   "execution_count": 4,
   "metadata": {},
   "outputs": [
    {
     "name": "stdout",
     "output_type": "stream",
     "text": [
      "90\n",
      "1\n"
     ]
    }
   ],
   "source": [
    "n = [67,23,90,1,12.34];\n",
    "print(max(n));\n",
    "print(min(n));"
   ]
  },
  {
   "cell_type": "markdown",
   "metadata": {},
   "source": [
    "chekc if item present in list onr not with in and not in operators"
   ]
  },
  {
   "cell_type": "code",
   "execution_count": 5,
   "metadata": {},
   "outputs": [
    {
     "name": "stdout",
     "output_type": "stream",
     "text": [
      "True\n",
      "True\n",
      "False\n"
     ]
    }
   ],
   "source": [
    "n = [67,23,90,1,12.34];\n",
    "print(23 in n);\n",
    "print(200 not in n);\n",
    "print(1234 in n);"
   ]
  },
  {
   "cell_type": "markdown",
   "metadata": {},
   "source": [
    "insert item in ilist"
   ]
  },
  {
   "cell_type": "code",
   "execution_count": 6,
   "metadata": {},
   "outputs": [
    {
     "name": "stdout",
     "output_type": "stream",
     "text": [
      "67\n",
      "23\n",
      "90\n",
      "1\n",
      "12.34\n",
      "89\n"
     ]
    }
   ],
   "source": [
    "n = [67,23,90,1,12.34];\n",
    "n.append(89);\n",
    "for item in n:\n",
    "    print(item);"
   ]
  },
  {
   "cell_type": "markdown",
   "metadata": {},
   "source": [
    "insert item at specific index"
   ]
  },
  {
   "cell_type": "code",
   "execution_count": 7,
   "metadata": {},
   "outputs": [
    {
     "name": "stdout",
     "output_type": "stream",
     "text": [
      "67\n",
      "189\n",
      "23\n",
      "90\n",
      "1\n",
      "12.34\n"
     ]
    }
   ],
   "source": [
    "n = [67,23,90,1,12.34];\n",
    "n.insert(1,189);\n",
    "for item in n:\n",
    "    print(item);"
   ]
  },
  {
   "cell_type": "markdown",
   "metadata": {},
   "source": [
    "update specific index;\n"
   ]
  },
  {
   "cell_type": "code",
   "execution_count": 8,
   "metadata": {},
   "outputs": [
    {
     "name": "stdout",
     "output_type": "stream",
     "text": [
      "67\n",
      "200\n",
      "90\n",
      "1\n",
      "12.34\n"
     ]
    }
   ],
   "source": [
    "n = [67,23,90,1,12.34];\n",
    "n[1] =200;\n",
    "for item in n:\n",
    "    print(item);"
   ]
  },
  {
   "cell_type": "markdown",
   "metadata": {},
   "source": [
    "empty out list;"
   ]
  },
  {
   "cell_type": "code",
   "execution_count": 10,
   "metadata": {},
   "outputs": [
    {
     "name": "stdout",
     "output_type": "stream",
     "text": [
      "[67, 23, 90, 1, 12.34]\n",
      "[]\n"
     ]
    }
   ],
   "source": [
    "n = [67,23,90,1,12.34];\n",
    "\n",
    "print(n);\n",
    "n.clear();\n",
    "print(n);"
   ]
  },
  {
   "cell_type": "markdown",
   "metadata": {},
   "source": [
    "remove item from specefic index use pop\n",
    "if want to delete by value use remove"
   ]
  },
  {
   "cell_type": "code",
   "execution_count": 11,
   "metadata": {},
   "outputs": [
    {
     "name": "stdout",
     "output_type": "stream",
     "text": [
      "[67, 23, 90, 1, 12.34]\n",
      "[67, 23, 1, 12.34]\n",
      "[67, 1, 12.34]\n"
     ]
    }
   ],
   "source": [
    "n = [67,23,90,1,12.34];\n",
    "\n",
    "print(n);\n",
    "n.pop(2);\n",
    "print(n);\n",
    "n.remove(23);\n",
    "print(n);"
   ]
  },
  {
   "cell_type": "markdown",
   "metadata": {},
   "source": [
    "copy or extend a list"
   ]
  },
  {
   "cell_type": "code",
   "execution_count": 13,
   "metadata": {},
   "outputs": [
    {
     "name": "stdout",
     "output_type": "stream",
     "text": [
      "[67, 23, 90, 1, 12.34]\n",
      "[1, 2, 23, 90, 1, 12.34]\n"
     ]
    }
   ],
   "source": [
    "n = [67,23,90,1,12.34];\n",
    "l =n;\n",
    "h = n.copy();\n",
    "print(h);\n",
    "l.remove(67);\n",
    "k =[1,2];\n",
    "k.extend(n);\n",
    "\n",
    "print(k);"
   ]
  },
  {
   "cell_type": "markdown",
   "metadata": {},
   "source": [
    "print specific index only"
   ]
  },
  {
   "cell_type": "code",
   "execution_count": 14,
   "metadata": {},
   "outputs": [
    {
     "name": "stdout",
     "output_type": "stream",
     "text": [
      "[23, 90]\n",
      "[90, 1, 12.34]\n",
      "[67, 23, 90]\n"
     ]
    }
   ],
   "source": [
    "n = [67,23,90,1,12.34];\n",
    "\n",
    "print(n[1:3]);\n",
    "print(n[2:]);\n",
    "print(n[:3]);"
   ]
  },
  {
   "cell_type": "markdown",
   "metadata": {},
   "source": [
    "sorting list"
   ]
  },
  {
   "cell_type": "code",
   "execution_count": 15,
   "metadata": {},
   "outputs": [
    {
     "name": "stdout",
     "output_type": "stream",
     "text": [
      "None\n",
      "None\n"
     ]
    }
   ],
   "source": [
    "n = [67,23,90,1,12.34];\n",
    "n.sort();\n",
    "print(n);\n",
    "n.sort(reverse=True)\n",
    "print(n);\n"
   ]
  }
 ],
 "metadata": {
  "kernelspec": {
   "display_name": "Python 3",
   "language": "python",
   "name": "python3"
  },
  "language_info": {
   "codemirror_mode": {
    "name": "ipython",
    "version": 3
   },
   "file_extension": ".py",
   "mimetype": "text/x-python",
   "name": "python",
   "nbconvert_exporter": "python",
   "pygments_lexer": "ipython3",
   "version": "3.11.5"
  },
  "orig_nbformat": 4
 },
 "nbformat": 4,
 "nbformat_minor": 2
}
