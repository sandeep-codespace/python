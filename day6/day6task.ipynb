{
 "cells": [
  {
   "cell_type": "markdown",
   "metadata": {},
   "source": [
    "1. create account on rapidAPi.com\n",
    "2. start create application for pancard info"
   ]
  },
  {
   "cell_type": "code",
   "execution_count": 4,
   "metadata": {},
   "outputs": [
    {
     "name": "stdout",
     "output_type": "stream",
     "text": [
      "{\"@entity\":\"individual\",\"pan\":\"DDUPK4919J\",\"first_name\":\"SANDEEP\",\"last_name\":\"KUMAR\"}\n"
     ]
    }
   ],
   "source": [
    "import http.client\n",
    "\n",
    "conn = http.client.HTTPSConnection(\"pan-card-verification-at-lowest-price.p.rapidapi.com\")\n",
    "\n",
    "headers = {\n",
    "    'x-rapid-api': \"rapid-api-database\",\n",
    "    'X-RapidAPI-Key': \"41a261dc61mshf3ed0777aa066f1p1070a2jsn22a038690a22\",\n",
    "    'X-RapidAPI-Host': \"pan-card-verification-at-lowest-price.p.rapidapi.com\"\n",
    "}\n",
    "\n",
    "conn.request(\"GET\", \"/verifyPan/FNLPM8635N\", headers=headers)\n",
    "\n",
    "res = conn.getresponse()\n",
    "data = res.read()\n",
    "\n",
    "print(data.decode(\"utf-8\"))"
   ]
  }
 ],
 "metadata": {
  "kernelspec": {
   "display_name": "Python 3",
   "language": "python",
   "name": "python3"
  },
  "language_info": {
   "codemirror_mode": {
    "name": "ipython",
    "version": 3
   },
   "file_extension": ".py",
   "mimetype": "text/x-python",
   "name": "python",
   "nbconvert_exporter": "python",
   "pygments_lexer": "ipython3",
   "version": "3.11.5"
  },
  "orig_nbformat": 4
 },
 "nbformat": 4,
 "nbformat_minor": 2
}
