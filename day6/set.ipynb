{
 "cells": [
  {
   "cell_type": "markdown",
   "metadata": {},
   "source": [
    "Set\n",
    "\n",
    "1. declared with {}\n",
    "2. used to store multiple items in single variable\n",
    "3. is a collection which is both unorderded and un-index\n",
    "4. doesn't allow duplicate values\n",
    "5. set is half unchangebale , you can add data in it"
   ]
  },
  {
   "cell_type": "code",
   "execution_count": 2,
   "metadata": {},
   "outputs": [
    {
     "name": "stdout",
     "output_type": "stream",
     "text": [
      "{56, 12, 54, 44}\n",
      "<class 'set'>\n"
     ]
    }
   ],
   "source": [
    "st = {12,56,44,12,54};\n",
    "print(st);\n",
    "print(type(st));"
   ]
  },
  {
   "cell_type": "code",
   "execution_count": 3,
   "metadata": {},
   "outputs": [
    {
     "name": "stdout",
     "output_type": "stream",
     "text": [
      "ELements are:\n",
      "67\n",
      "12\n",
      "45\n"
     ]
    }
   ],
   "source": [
    "d= {12,45,67};\n",
    "# d[1]=300; this will throw error\n",
    "# print(d[1]); this will throw error\n",
    "print(\"ELements are:\");\n",
    "for k in d:\n",
    "    print(k); \n"
   ]
  },
  {
   "cell_type": "markdown",
   "metadata": {},
   "source": [
    "add data"
   ]
  },
  {
   "cell_type": "code",
   "execution_count": 4,
   "metadata": {},
   "outputs": [
    {
     "name": "stdout",
     "output_type": "stream",
     "text": [
      "{67, 12, 45, 300}\n"
     ]
    }
   ],
   "source": [
    "d= {12,45,67};\n",
    "d.add(300);\n",
    "print(d);"
   ]
  },
  {
   "cell_type": "markdown",
   "metadata": {},
   "source": [
    "remove data"
   ]
  },
  {
   "cell_type": "code",
   "execution_count": 5,
   "metadata": {},
   "outputs": [
    {
     "name": "stdout",
     "output_type": "stream",
     "text": [
      "{12, 45}\n"
     ]
    }
   ],
   "source": [
    "d= {12,45,67};\n",
    "d.pop();\n",
    "print(d);"
   ]
  },
  {
   "cell_type": "code",
   "execution_count": 6,
   "metadata": {},
   "outputs": [
    {
     "name": "stdout",
     "output_type": "stream",
     "text": [
      "{67, 12}\n"
     ]
    }
   ],
   "source": [
    "d= {12,45,67};\n",
    "d.remove(45);\n",
    "print(d);"
   ]
  },
  {
   "cell_type": "code",
   "execution_count": 7,
   "metadata": {},
   "outputs": [
    {
     "name": "stdout",
     "output_type": "stream",
     "text": [
      "{67, 12}\n"
     ]
    }
   ],
   "source": [
    "d= {12,45,67};\n",
    "d.discard(45);\n",
    "print(d);"
   ]
  },
  {
   "cell_type": "code",
   "execution_count": 8,
   "metadata": {},
   "outputs": [
    {
     "name": "stdout",
     "output_type": "stream",
     "text": [
      "set()\n"
     ]
    }
   ],
   "source": [
    "d= {12,45,67};\n",
    "d.clear();\n",
    "print(d);"
   ]
  },
  {
   "cell_type": "code",
   "execution_count": 9,
   "metadata": {},
   "outputs": [
    {
     "name": "stdout",
     "output_type": "stream",
     "text": [
      "{34, 67, 43, 12, 45}\n"
     ]
    }
   ],
   "source": [
    "d= {12,45,67};\n",
    "k = {34,43,12};\n",
    "h = d.union(k);\n",
    "\n",
    "print(h);"
   ]
  },
  {
   "cell_type": "code",
   "execution_count": 11,
   "metadata": {},
   "outputs": [
    {
     "name": "stdout",
     "output_type": "stream",
     "text": [
      "{90, 12, 55}\n"
     ]
    }
   ],
   "source": [
    "d= {12,45,67,90,55};\n",
    "k = {34,43,12,55,90};\n",
    "h = d.intersection(k);\n",
    "\n",
    "print(h);"
   ]
  },
  {
   "cell_type": "markdown",
   "metadata": {},
   "source": [
    "delete a variable use del function"
   ]
  },
  {
   "cell_type": "code",
   "execution_count": 13,
   "metadata": {},
   "outputs": [
    {
     "name": "stdout",
     "output_type": "stream",
     "text": [
      "{67, 12, 45}\n"
     ]
    }
   ],
   "source": [
    "d= {12,45,67};\n",
    "# del(d);\n",
    "print(d);"
   ]
  }
 ],
 "metadata": {
  "kernelspec": {
   "display_name": "Python 3",
   "language": "python",
   "name": "python3"
  },
  "language_info": {
   "codemirror_mode": {
    "name": "ipython",
    "version": 3
   },
   "file_extension": ".py",
   "mimetype": "text/x-python",
   "name": "python",
   "nbconvert_exporter": "python",
   "pygments_lexer": "ipython3",
   "version": "3.11.5"
  },
  "orig_nbformat": 4
 },
 "nbformat": 4,
 "nbformat_minor": 2
}
