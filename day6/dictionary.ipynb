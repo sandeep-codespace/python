{
 "cells": [
  {
   "cell_type": "markdown",
   "metadata": {},
   "source": [
    "Dictionary :\n",
    " 1. contain key value pair\n",
    " 2. does not allow duplicate key\n",
    " 3. also called json structure\n",
    " 4. declared with help of {} \n",
    " 5. its changeable\n"
   ]
  },
  {
   "cell_type": "code",
   "execution_count": 2,
   "metadata": {},
   "outputs": [
    {
     "name": "stdout",
     "output_type": "stream",
     "text": [
      "{'name': 'TestName', 'id': 36, 'branch': 'csc'}\n",
      "36\n"
     ]
    }
   ],
   "source": [
    "w = {\"name\": \"TestName\", \"id\": 36, \"branch\": \"csc\"};\n",
    "print(w);\n",
    "\n",
    "print(w[\"id\"]);"
   ]
  },
  {
   "cell_type": "code",
   "execution_count": 27,
   "metadata": {},
   "outputs": [
    {
     "name": "stdout",
     "output_type": "stream",
     "text": [
      "{'name': 'TestName', 'id': 36, 'branch': 'csc'}\n",
      "TestName\n"
     ]
    }
   ],
   "source": [
    "w = {\"name\": \"TestName\", \"id\": 36, \"branch\": \"csc\"};\n",
    "print(w);\n",
    "print(w.get('name'));"
   ]
  },
  {
   "cell_type": "code",
   "execution_count": 31,
   "metadata": {},
   "outputs": [
    {
     "name": "stdout",
     "output_type": "stream",
     "text": [
      "dict_keys(['name', 'id', 'branch'])\n",
      "name\n",
      "id\n",
      "branch\n",
      "TestName\n",
      "36\n",
      "csc\n"
     ]
    }
   ],
   "source": [
    "w = {\"name\": \"TestName\", \"id\": 36, \"branch\": \"csc\"};\n",
    "print(w.keys());\n",
    "q = w.keys();\n",
    "v = w.values();\n",
    "for k in q:\n",
    "    print(k);\n",
    "    \n",
    "for data in v:\n",
    "    print(data);"
   ]
  },
  {
   "cell_type": "code",
   "execution_count": 32,
   "metadata": {},
   "outputs": [
    {
     "name": "stdout",
     "output_type": "stream",
     "text": [
      "{'name': 'TestName', 'id': 36, 'branch': 'csc', 'address': 'chandigarh'}\n"
     ]
    }
   ],
   "source": [
    "w = {\"name\": \"TestName\", \"id\": 36, \"branch\": \"csc\"};\n",
    "w.update({\"address\": \"chandigarh\"});\n",
    "print(w);"
   ]
  },
  {
   "cell_type": "code",
   "execution_count": 34,
   "metadata": {},
   "outputs": [
    {
     "name": "stdout",
     "output_type": "stream",
     "text": [
      "{'id': 36, 'branch': 'csc'}\n",
      "{}\n"
     ]
    }
   ],
   "source": [
    "w = {\"name\": \"TestName\", \"id\": 36, \"branch\": \"csc\"};\n",
    "\n",
    "w.pop('name');\n",
    "print(w);\n",
    "\n",
    "w.clear();\n",
    "print(w);"
   ]
  },
  {
   "cell_type": "code",
   "execution_count": 35,
   "metadata": {},
   "outputs": [
    {
     "name": "stdout",
     "output_type": "stream",
     "text": [
      "{'name': 'TestName', 'id': 800, 'branch': 'csc'}\n"
     ]
    }
   ],
   "source": [
    "w = {\"name\": \"TestName\", \"id\": 36, \"branch\": \"csc\"};\n",
    "\n",
    "w[\"id\"] =800;\n",
    "print(w);"
   ]
  },
  {
   "cell_type": "code",
   "execution_count": 41,
   "metadata": {},
   "outputs": [
    {
     "name": "stdout",
     "output_type": "stream",
     "text": [
      "456\n",
      "testName\n"
     ]
    }
   ],
   "source": [
    "w = {\"name\": \"TestName\", \"id\": 36, \"branch\": \"csc\", \"mobile\":[123,456,789]};\n",
    "d = [13,42,{\"name\" :\"testName\"},(335,34)]\n",
    "print(w.get(\"mobile\")[1])\n",
    "print(d[2].get(\"name\"));\n",
    "\n"
   ]
  }
 ],
 "metadata": {
  "kernelspec": {
   "display_name": "Python 3",
   "language": "python",
   "name": "python3"
  },
  "language_info": {
   "codemirror_mode": {
    "name": "ipython",
    "version": 3
   },
   "file_extension": ".py",
   "mimetype": "text/x-python",
   "name": "python",
   "nbconvert_exporter": "python",
   "pygments_lexer": "ipython3",
   "version": "3.11.5"
  },
  "orig_nbformat": 4
 },
 "nbformat": 4,
 "nbformat_minor": 2
}
