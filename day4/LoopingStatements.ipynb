{
 "cells": [
  {
   "cell_type": "markdown",
   "metadata": {},
   "source": [
    "Looping Statements\n",
    "\n",
    "used for self repetition of task\n",
    "loop nature finite or infinite\n",
    "benefits of loop\n",
    "1. num of line of code reduce\n",
    "2. program efficiency fast\n",
    "3. file size reduce\n",
    "4. help in linear data storage structure\n",
    "5. help in complex problems\n",
    "\n",
    "\n",
    "loop order \n",
    "\n",
    "1. incrimental\n",
    "2. decrimental\n",
    "\n",
    "there is no post and pre incriment\n",
    "\n",
    "Types of loop\n",
    "\n",
    "1. for loop\n",
    "2. while loop\n",
    "\n",
    "implicit loops and explicit loops (take input on run time)"
   ]
  },
  {
   "cell_type": "code",
   "execution_count": 7,
   "metadata": {},
   "outputs": [
    {
     "name": "stdout",
     "output_type": "stream",
     "text": [
      "0\n",
      "1\n",
      "2\n",
      "3\n"
     ]
    }
   ],
   "source": [
    "for index in range(4):\n",
    "    print(index);"
   ]
  },
  {
   "cell_type": "code",
   "execution_count": 6,
   "metadata": {},
   "outputs": [
    {
     "name": "stdout",
     "output_type": "stream",
     "text": [
      "1\n",
      "3\n"
     ]
    }
   ],
   "source": [
    "# range function first param indicare start from , second param indetate less than value confition for example if second param is 5 then range will have max value 4 and third param indicate inrement by  by default its 1 but we can give aother value by which we want incrementsl\n",
    "# first param is by default is 0\n",
    "for index in range(1,5,2):\n",
    "    print(index);"
   ]
  },
  {
   "cell_type": "code",
   "execution_count": 9,
   "metadata": {},
   "outputs": [
    {
     "name": "stdout",
     "output_type": "stream",
     "text": [
      "10\n",
      "9\n",
      "8\n",
      "7\n",
      "6\n"
     ]
    }
   ],
   "source": [
    "for index in range(10,5,-1):\n",
    "    print(index);"
   ]
  },
  {
   "cell_type": "markdown",
   "metadata": {},
   "source": [
    "Branching statements"
   ]
  },
  {
   "cell_type": "code",
   "execution_count": 10,
   "metadata": {},
   "outputs": [
    {
     "name": "stdout",
     "output_type": "stream",
     "text": [
      "0\n",
      "1\n",
      "2\n",
      "4\n",
      "5\n",
      "7\n",
      "8\n",
      "9\n"
     ]
    }
   ],
   "source": [
    "for index in range(10):\n",
    "    if index == 3 or index == 6:\n",
    "        continue;\n",
    "    print(index);"
   ]
  },
  {
   "cell_type": "code",
   "execution_count": 11,
   "metadata": {},
   "outputs": [
    {
     "name": "stdout",
     "output_type": "stream",
     "text": [
      "0\n",
      "1\n",
      "2\n"
     ]
    }
   ],
   "source": [
    "for index in range(10):\n",
    "    if index == 3:\n",
    "        break;\n",
    "    print(index);"
   ]
  },
  {
   "cell_type": "code",
   "execution_count": 12,
   "metadata": {},
   "outputs": [
    {
     "name": "stdout",
     "output_type": "stream",
     "text": [
      "0\n",
      "1\n",
      "2\n",
      "3\n",
      "4\n",
      "5\n",
      "6\n",
      "7\n",
      "8\n",
      "9\n",
      "10\n"
     ]
    }
   ],
   "source": [
    "startFrom = int(input(\"Start from:\"));\n",
    "runTill = int(input(\"run till:\"));\n",
    "incrememtby = int(input(\"increment by:\"));\n",
    "\n",
    "for index in range(startFrom, runTill, incrememtby):\n",
    "    #if index == 3:\n",
    "     #   break;\n",
    "    print(index);"
   ]
  }
 ],
 "metadata": {
  "kernelspec": {
   "display_name": "Python 3",
   "language": "python",
   "name": "python3"
  },
  "language_info": {
   "codemirror_mode": {
    "name": "ipython",
    "version": 3
   },
   "file_extension": ".py",
   "mimetype": "text/x-python",
   "name": "python",
   "nbconvert_exporter": "python",
   "pygments_lexer": "ipython3",
   "version": "3.11.5"
  },
  "orig_nbformat": 4
 },
 "nbformat": 4,
 "nbformat_minor": 2
}
