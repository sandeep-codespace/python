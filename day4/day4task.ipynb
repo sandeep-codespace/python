{
 "cells": [
  {
   "cell_type": "markdown",
   "metadata": {},
   "source": [
    "1. find factorial of a number n\n",
    "2. print table of a number n\n",
    "3. odd number print first 10"
   ]
  },
  {
   "cell_type": "code",
   "execution_count": 6,
   "metadata": {},
   "outputs": [
    {
     "name": "stdout",
     "output_type": "stream",
     "text": [
      "720\n"
     ]
    }
   ],
   "source": [
    "findFactorial = input(\"calculate factoral of: \");\n",
    "result = 1;\n",
    "if findFactorial.isdigit() and int(findFactorial) > 1:\n",
    "    for index in range(int(findFactorial),1,-1):\n",
    "        result = result * index;\n",
    "    print(result);\n",
    "else:\n",
    "    print(\"Please enter a valid value\");"
   ]
  },
  {
   "cell_type": "code",
   "execution_count": 2,
   "metadata": {},
   "outputs": [
    {
     "name": "stdout",
     "output_type": "stream",
     "text": [
      "98 x 1  =  98\n",
      "98 x 2  =  196\n",
      "98 x 3  =  294\n",
      "98 x 4  =  392\n",
      "98 x 5  =  490\n",
      "98 x 6  =  588\n",
      "98 x 7  =  686\n",
      "98 x 8  =  784\n",
      "98 x 9  =  882\n",
      "98 x 10  =  980\n"
     ]
    }
   ],
   "source": [
    "tableOf = input(\"print table of: \");\n",
    "\n",
    "for index in range(1,11):\n",
    "    print(tableOf + \" x \"+ str(index) + \"  = \", (int(tableOf)*index));\n"
   ]
  },
  {
   "cell_type": "code",
   "execution_count": 1,
   "metadata": {},
   "outputs": [
    {
     "name": "stdout",
     "output_type": "stream",
     "text": [
      "9\n",
      "18\n",
      "27\n",
      "36\n",
      "45\n",
      "54\n",
      "63\n",
      "72\n",
      "81\n",
      "90\n"
     ]
    }
   ],
   "source": [
    "tableOf = int(input(\"print table of: \"));\n",
    "\n",
    "for index in range(1,11):\n",
    "    print(tableOf*index);\n"
   ]
  },
  {
   "cell_type": "code",
   "execution_count": 17,
   "metadata": {},
   "outputs": [
    {
     "name": "stdout",
     "output_type": "stream",
     "text": [
      "1\n",
      "3\n",
      "5\n",
      "7\n",
      "9\n",
      "11\n",
      "13\n",
      "15\n",
      "17\n",
      "19\n",
      "21\n",
      "23\n",
      "25\n",
      "27\n",
      "29\n",
      "31\n",
      "33\n",
      "35\n",
      "37\n",
      "39\n",
      "41\n",
      "43\n",
      "45\n",
      "47\n",
      "49\n",
      "51\n",
      "53\n",
      "55\n",
      "57\n",
      "59\n"
     ]
    }
   ],
   "source": [
    "oddInout = int(input(\"find first odd : \"));\n",
    "for index in range(1,2 * oddInout,2):\n",
    "    print(index);"
   ]
  }
 ],
 "metadata": {
  "kernelspec": {
   "display_name": "Python 3",
   "language": "python",
   "name": "python3"
  },
  "language_info": {
   "codemirror_mode": {
    "name": "ipython",
    "version": 3
   },
   "file_extension": ".py",
   "mimetype": "text/x-python",
   "name": "python",
   "nbconvert_exporter": "python",
   "pygments_lexer": "ipython3",
   "version": "3.11.5"
  },
  "orig_nbformat": 4
 },
 "nbformat": 4,
 "nbformat_minor": 2
}
