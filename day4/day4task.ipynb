{
 "cells": [
  {
   "cell_type": "markdown",
   "metadata": {},
   "source": [
    "1. find factorial of a number n\n",
    "2. print table of a number n\n",
    "3. odd number print first 10"
   ]
  },
  {
   "cell_type": "code",
   "execution_count": 6,
   "metadata": {},
   "outputs": [
    {
     "name": "stdout",
     "output_type": "stream",
     "text": [
      "720\n"
     ]
    }
   ],
   "source": [
    "findFactorial = input(\"calculate factoral of: \");\n",
    "result =1;\n",
    "if findFactorial.isdigit() and int(findFactorial) >1:\n",
    "    for index in range(int(findFactorial),1,-1):\n",
    "        result = result * index;\n",
    "    print(result);\n",
    "else:\n",
    "    print(\"Please enter a valid value\")"
   ]
  },
  {
   "cell_type": "code",
   "execution_count": 14,
   "metadata": {},
   "outputs": [
    {
     "name": "stdout",
     "output_type": "stream",
     "text": [
      "71 x 1 =  71\n",
      "71 x 2 =  142\n",
      "71 x 3 =  213\n",
      "71 x 4 =  284\n",
      "71 x 5 =  355\n",
      "71 x 6 =  426\n",
      "71 x 7 =  497\n",
      "71 x 8 =  568\n",
      "71 x 9 =  639\n",
      "71 x 10 =  710\n"
     ]
    }
   ],
   "source": [
    "tableOf = input(\"print table of: \");\n",
    "\n",
    "for index in range(1,11):\n",
    "    print(tableOf + \" x \"+ str(index) + \" = \", (int(tableOf)*index));\n"
   ]
  },
  {
   "cell_type": "code",
   "execution_count": 17,
   "metadata": {},
   "outputs": [
    {
     "name": "stdout",
     "output_type": "stream",
     "text": [
      "1\n",
      "3\n",
      "5\n",
      "7\n",
      "9\n",
      "11\n",
      "13\n",
      "15\n",
      "17\n",
      "19\n",
      "21\n",
      "23\n",
      "25\n",
      "27\n",
      "29\n",
      "31\n",
      "33\n",
      "35\n",
      "37\n",
      "39\n",
      "41\n",
      "43\n",
      "45\n",
      "47\n",
      "49\n",
      "51\n",
      "53\n",
      "55\n",
      "57\n",
      "59\n"
     ]
    }
   ],
   "source": [
    "oddInout = int(input(\"find first odd : \"));\n",
    "for index in range(1,2 * oddInout,2):\n",
    "    print(index);"
   ]
  }
 ],
 "metadata": {
  "kernelspec": {
   "display_name": "Python 3",
   "language": "python",
   "name": "python3"
  },
  "language_info": {
   "codemirror_mode": {
    "name": "ipython",
    "version": 3
   },
   "file_extension": ".py",
   "mimetype": "text/x-python",
   "name": "python",
   "nbconvert_exporter": "python",
   "pygments_lexer": "ipython3",
   "version": "3.11.5"
  },
  "orig_nbformat": 4
 },
 "nbformat": 4,
 "nbformat_minor": 2
}
